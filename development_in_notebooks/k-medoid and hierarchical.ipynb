{
 "cells": [
  {
   "cell_type": "code",
   "execution_count": 8,
   "metadata": {},
   "outputs": [],
   "source": [
    "from sklearn.metrics.pairwise import pairwise_distances\n",
    "import numpy as np\n",
    "import kmedoids\n",
    "import sort_data\n",
    "from fastdtw import fastdtw\n",
    "import pandas as pd\n",
    "from scipy.cluster.hierarchy import dendrogram, linkage\n",
    "from matplotlib import pyplot as plt"
   ]
  },
  {
   "cell_type": "code",
   "execution_count": 9,
   "metadata": {},
   "outputs": [],
   "source": [
    "charge_partial, discharge_partial = sort_data.charge_discharge('converted_PL03.mat')\n",
    "charge_full, discharge_full = sort_data.charge_discharge('converted_PL11.mat')"
   ]
  },
  {
   "cell_type": "code",
   "execution_count": 10,
   "metadata": {},
   "outputs": [
    {
     "data": {
      "text/html": [
       "<div>\n",
       "<style scoped>\n",
       "    .dataframe tbody tr th:only-of-type {\n",
       "        vertical-align: middle;\n",
       "    }\n",
       "\n",
       "    .dataframe tbody tr th {\n",
       "        vertical-align: top;\n",
       "    }\n",
       "\n",
       "    .dataframe thead th {\n",
       "        text-align: right;\n",
       "    }\n",
       "</style>\n",
       "<table border=\"1\" class=\"dataframe\">\n",
       "  <thead>\n",
       "    <tr style=\"text-align: right;\">\n",
       "      <th></th>\n",
       "      <th>time</th>\n",
       "      <th>datetime</th>\n",
       "      <th>step</th>\n",
       "      <th>cycle</th>\n",
       "      <th>current_amp</th>\n",
       "      <th>voltage</th>\n",
       "      <th>charge_ah</th>\n",
       "      <th>discharge_ah</th>\n",
       "    </tr>\n",
       "  </thead>\n",
       "  <tbody>\n",
       "  </tbody>\n",
       "</table>\n",
       "</div>"
      ],
      "text/plain": [
       "Empty DataFrame\n",
       "Columns: [time, datetime, step, cycle, current_amp, voltage, charge_ah, discharge_ah]\n",
       "Index: []"
      ]
     },
     "execution_count": 10,
     "metadata": {},
     "output_type": "execute_result"
    }
   ],
   "source": [
    "#Getting rid of the empty cycle\n",
    "discharge_full.pop(845)"
   ]
  },
  {
   "cell_type": "code",
   "execution_count": 68,
   "metadata": {
    "scrolled": true
   },
   "outputs": [
    {
     "data": {
      "text/plain": [
       "1"
      ]
     },
     "execution_count": 68,
     "metadata": {},
     "output_type": "execute_result"
    }
   ],
   "source": [
    "list(discharge_partial.keys()).index(2)"
   ]
  },
  {
   "cell_type": "code",
   "execution_count": 11,
   "metadata": {},
   "outputs": [
    {
     "data": {
      "text/plain": [
       "160"
      ]
     },
     "execution_count": 11,
     "metadata": {},
     "output_type": "execute_result"
    }
   ],
   "source": [
    "new_discharge_full = {}\n",
    "for m in range(20,900,5):\n",
    "    if m not in discharge_full.keys():\n",
    "        pass\n",
    "    else:\n",
    "        new_discharge_full[m] = discharge_full[m]\n",
    "len(new_discharge_full.keys())"
   ]
  },
  {
   "cell_type": "code",
   "execution_count": 12,
   "metadata": {},
   "outputs": [
    {
     "data": {
      "text/plain": [
       "16"
      ]
     },
     "execution_count": 12,
     "metadata": {},
     "output_type": "execute_result"
    }
   ],
   "source": [
    "new_discharge_partial = {}\n",
    "for m in range(25,975,50):\n",
    "    if m not in discharge_partial.keys():\n",
    "        pass\n",
    "    else:\n",
    "        new_discharge_partial[m] = discharge_partial[m]\n",
    "len(new_discharge_partial.keys())"
   ]
  },
  {
   "cell_type": "code",
   "execution_count": 13,
   "metadata": {},
   "outputs": [],
   "source": [
    "#Combine too dicts\n",
    "z = {**new_discharge_full, **new_discharge_partial}"
   ]
  },
  {
   "cell_type": "code",
   "execution_count": 14,
   "metadata": {},
   "outputs": [
    {
     "data": {
      "text/plain": [
       "162"
      ]
     },
     "execution_count": 14,
     "metadata": {},
     "output_type": "execute_result"
    }
   ],
   "source": [
    "len(z.keys())"
   ]
  },
  {
   "cell_type": "code",
   "execution_count": 15,
   "metadata": {},
   "outputs": [],
   "source": [
    "def distance_matrix(discharge_partial,discharge_full):\n",
    "    scale = len(z.keys())\n",
    "    distance_matrix = np.zeros((scale,scale))\n",
    "    for m in z.keys():\n",
    "        index_partial = list(z.keys()).index(m)\n",
    "        for n in z.keys():\n",
    "            index_full = list(z.keys()).index(n)\n",
    "            b = z[m]['voltage']\n",
    "            c = z[n]['voltage']\n",
    "            distance, path  = fastdtw(b,c)\n",
    "            distance_matrix[index_partial,index_full] = distance\n",
    "    return distance_matrix"
   ]
  },
  {
   "cell_type": "code",
   "execution_count": 16,
   "metadata": {},
   "outputs": [],
   "source": [
    "dm = distance_matrix(discharge_partial,discharge_full)"
   ]
  },
  {
   "cell_type": "code",
   "execution_count": 18,
   "metadata": {},
   "outputs": [
    {
     "data": {
      "text/plain": [
       "(162, 162)"
      ]
     },
     "execution_count": 18,
     "metadata": {},
     "output_type": "execute_result"
    }
   ],
   "source": [
    "dm.shape"
   ]
  },
  {
   "cell_type": "code",
   "execution_count": 20,
   "metadata": {
    "scrolled": true
   },
   "outputs": [
    {
     "name": "stdout",
     "output_type": "stream",
     "text": [
      "[ 87  19  39  92 112 127  90 133 145 157]\n",
      "{0: array([  1,  11,  21,  31,  41,  51,  60,  70,  77,  87,  97, 117, 146,\n",
      "       155, 160, 161], dtype=int64), 1: array([ 0,  3,  4,  7, 12, 14, 15, 16, 17, 18, 19, 24, 25, 27, 29, 33, 35,\n",
      "       37, 40, 43, 44, 45, 46, 47, 50, 57, 58, 59, 61, 62, 63, 66, 69, 71,\n",
      "       72, 73, 74, 80, 83], dtype=int64), 2: array([ 2,  5,  6,  8,  9, 10, 13, 20, 22, 23, 26, 28, 30, 32, 34, 36, 38,\n",
      "       39, 42, 48, 49, 52, 53, 54, 55, 56, 64, 65, 67, 68, 75, 76, 81],\n",
      "      dtype=int64), 3: array([ 78,  79,  84,  85,  88,  89,  91,  92,  93,  95,  96,  98, 100,\n",
      "       101, 103, 105], dtype=int64), 4: array([102, 104, 106, 107, 108, 110, 111, 112, 113, 114, 115, 116],\n",
      "      dtype=int64), 5: array([109, 119, 120, 124, 125, 126, 127, 128, 129, 130, 135, 136, 137,\n",
      "       138], dtype=int64), 6: array([82, 86, 90, 94, 99], dtype=int64), 7: array([118, 121, 122, 123, 131, 132, 133, 134, 148, 150], dtype=int64), 8: array([140, 145, 147, 149, 152], dtype=int64), 9: array([139, 141, 142, 143, 144, 151, 153, 154, 156, 157, 158, 159],\n",
      "      dtype=int64)}\n"
     ]
    }
   ],
   "source": [
    "medoid, cluster = kmedoids.kMedoids(dm, 10)\n",
    "print(medoid)\n",
    "print(cluster)"
   ]
  },
  {
   "cell_type": "code",
   "execution_count": 23,
   "metadata": {},
   "outputs": [
    {
     "name": "stderr",
     "output_type": "stream",
     "text": [
      "C:\\Users\\liu0563\\Miniconda3\\lib\\site-packages\\ipykernel_launcher.py:1: ClusterWarning: scipy.cluster: The symmetric non-negative hollow observation matrix looks suspiciously like an uncondensed distance matrix\n",
      "  \"\"\"Entry point for launching an IPython kernel.\n"
     ]
    },
    {
     "data": {
      "image/png": "[encoded data removed]",
      "text/plain": [
       "<matplotlib.figure.Figure at 0x58022efa20>"
      ]
     },
     "metadata": {},
     "output_type": "display_data"
    }
   ],
   "source": [
    "Z = linkage(dm, 'single')\n",
    "dn = dendrogram(Z)\n",
    "plt.show()"
   ]
  },
  {
   "cell_type": "code",
   "execution_count": 89,
   "metadata": {},
   "outputs": [],
   "source": [
    "D = np.insert(D,2,3,axis = 1)"
   ]
  },
  {
   "cell_type": "code",
   "execution_count": 4,
   "metadata": {
    "scrolled": true
   },
   "outputs": [
    {
     "data": {
      "text/plain": [
       "array([[ 1.        ,  3.        ,  3.        , 12.72792206],\n",
       "       [ 1.41421356,  0.        ,  3.        , 11.3137085 ],\n",
       "       [12.72792206, 11.3137085 ,  3.        ,  1.        ]])"
      ]
     },
     "execution_count": 4,
     "metadata": {},
     "output_type": "execute_result"
    }
   ],
   "source": [
    "data = np.array([[1,1], \n",
    "                [2,2], \n",
    "                [10,10]])\n",
    "D = pairwise_distances(data, metric='euclidean')\n",
    "D[0,0] = 1\n",
    "D[2,2] = 1\n",
    "D[0,1] = 3\n",
    "D = np.insert(D,2,3,axis = 1)\n",
    "D"
   ]
  },
  {
   "cell_type": "code",
   "execution_count": 91,
   "metadata": {},
   "outputs": [
    {
     "data": {
      "text/plain": [
       "array([[ 1.        ,  3.        ,  3.        ,  3.        , 12.72792206],\n",
       "       [ 1.41421356,  0.        ,  3.        ,  3.        , 11.3137085 ],\n",
       "       [12.72792206, 11.3137085 ,  3.        ,  3.        ,  1.        ]])"
      ]
     },
     "execution_count": 91,
     "metadata": {},
     "output_type": "execute_result"
    }
   ],
   "source": [
    "D"
   ]
  },
  {
   "cell_type": "code",
   "execution_count": 5,
   "metadata": {},
   "outputs": [],
   "source": [
    "M, C = kmedoids.kMedoids(D, 2)"
   ]
  },
  {
   "cell_type": "code",
   "execution_count": 6,
   "metadata": {},
   "outputs": [
    {
     "data": {
      "text/plain": [
       "array([1, 2])"
      ]
     },
     "execution_count": 6,
     "metadata": {},
     "output_type": "execute_result"
    }
   ],
   "source": [
    "M"
   ]
  },
  {
   "cell_type": "code",
   "execution_count": 61,
   "metadata": {},
   "outputs": [
    {
     "name": "stdout",
     "output_type": "stream",
     "text": [
      "medoids:\n"
     ]
    },
    {
     "ename": "IndexError",
     "evalue": "index 9 is out of bounds for axis 0 with size 3",
     "output_type": "error",
     "traceback": [
      "\u001b[1;31m---------------------------------------------------------------------------\u001b[0m",
      "\u001b[1;31mIndexError\u001b[0m                                Traceback (most recent call last)",
      "\u001b[1;32m<ipython-input-61-fba32c63a8fe>\u001b[0m in \u001b[0;36m<module>\u001b[1;34m()\u001b[0m\n\u001b[0;32m     13\u001b[0m \u001b[0mprint\u001b[0m\u001b[1;33m(\u001b[0m\u001b[1;34m'medoids:'\u001b[0m\u001b[1;33m)\u001b[0m\u001b[1;33m\u001b[0m\u001b[0m\n\u001b[0;32m     14\u001b[0m \u001b[1;32mfor\u001b[0m \u001b[0mpoint_idx\u001b[0m \u001b[1;32min\u001b[0m \u001b[0mM\u001b[0m\u001b[1;33m:\u001b[0m\u001b[1;33m\u001b[0m\u001b[0m\n\u001b[1;32m---> 15\u001b[1;33m     \u001b[0mprint\u001b[0m\u001b[1;33m(\u001b[0m \u001b[0mdata\u001b[0m\u001b[1;33m[\u001b[0m\u001b[0mpoint_idx\u001b[0m\u001b[1;33m]\u001b[0m \u001b[1;33m)\u001b[0m\u001b[1;33m\u001b[0m\u001b[0m\n\u001b[0m\u001b[0;32m     16\u001b[0m \u001b[1;33m\u001b[0m\u001b[0m\n\u001b[0;32m     17\u001b[0m \u001b[0mprint\u001b[0m\u001b[1;33m(\u001b[0m\u001b[1;34m''\u001b[0m\u001b[1;33m)\u001b[0m\u001b[1;33m\u001b[0m\u001b[0m\n",
      "\u001b[1;31mIndexError\u001b[0m: index 9 is out of bounds for axis 0 with size 3"
     ]
    }
   ],
   "source": [
    "M, C = kmedoids.kMedoids(D, 2)\n",
    "# 3 points in dataset\n",
    "data = np.array([[1,1], \n",
    "                [2,2], \n",
    "                [10,10]])\n",
    "\n",
    "# distance matrix\n",
    "D = pairwise_distances(data, metric='euclidean')\n",
    "\n",
    "# split into 2 clusters\n",
    "M, C = kmedoids.kMedoids(dm, 2)\n",
    "\n",
    "print('medoids:')\n",
    "for point_idx in M:\n",
    "    print( data[point_idx] )\n",
    "\n",
    "print('')\n",
    "print('clustering result:')\n",
    "for label in C:\n",
    "    for point_idx in C[label]:\n",
    "        print('label {0}:　{1}'.format(label, data[point_idx]))"
   ]
  }
 ],
 "metadata": {
  "kernelspec": {
   "display_name": "Python 3",
   "language": "python",
   "name": "python3"
  },
  "language_info": {
   "codemirror_mode": {
    "name": "ipython",
    "version": 3
   },
   "file_extension": ".py",
   "mimetype": "text/x-python",
   "name": "python",
   "nbconvert_exporter": "python",
   "pygments_lexer": "ipython3",
   "version": "3.6.3"
  }
 },
 "nbformat": 4,
 "nbformat_minor": 2
}
