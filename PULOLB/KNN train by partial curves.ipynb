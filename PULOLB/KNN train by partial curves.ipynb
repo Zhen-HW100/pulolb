{
 "cells": [
  {
   "cell_type": "markdown",
   "metadata": {},
   "source": [
    "# KNN-1: train with partial curves "
   ]
  },
  {
   "cell_type": "markdown",
   "metadata": {},
   "source": [
    "My idea is to used one of the partial cycle files to train the KNN model. For that, I need to get the distances between each of the partial curves with all the full curves. So for each partial curve, choose the closer full curve.\n",
    "The result is an array with all the distances for each partial cycle. The number of cycle is the label of each distance.\n",
    "With that i train the model.\n",
    "\n",
    "Then, the user will give us a curve. We need to get first the distance of this curve to all our full curves and get the closer one.\n",
    "That distance is what i feed the model to make a prediction of the cycle number.\n",
    "\n",
    "We can used one file of partial curves as train set and then other as test set.\n",
    "\n",
    "**I tried to do this, but the code for getting the distance for each partial curve takes FOREVER!. So i only used 2 partial curves to train. Of course this is not okey, but i just wanted to see if this made any sense**"
   ]
  },
  {
   "cell_type": "code",
   "execution_count": 1,
   "metadata": {},
   "outputs": [
    {
     "name": "stderr",
     "output_type": "stream",
     "text": [
      "/Users/rossana13/miniconda3/lib/python3.6/site-packages/h5py/__init__.py:36: FutureWarning: Conversion of the second argument of issubdtype from `float` to `np.floating` is deprecated. In future, it will be treated as `np.float64 == np.dtype(float).type`.\n",
      "  from ._conv import register_converters as _register_converters\n"
     ]
    }
   ],
   "source": [
    "import pandas as pd\n",
    "import numpy as np\n",
    "import import_data\n",
    "import sort_data\n",
    "import matplotlib.pyplot as plt\n",
    "\n",
    "%matplotlib inline"
   ]
  },
  {
   "cell_type": "code",
   "execution_count": 2,
   "metadata": {},
   "outputs": [],
   "source": [
    "#Load the data. We need full curves and one partial curve (that represents the user's curve)\n",
    "\n",
    "PL03c,PL03d = sort_data.charge_discharge('converted_PL03.mat')\n",
    "full_curvesc,full_curvesd = sort_data.charge_discharge('converted_PL11.mat')\n",
    "\n",
    "PL10c,PL10d = sort_data.charge_discharge('data/converted_PL10.mat')"
   ]
  },
  {
   "cell_type": "code",
   "execution_count": 3,
   "metadata": {},
   "outputs": [],
   "source": [
    "a = PL03c[444]['voltage'].values.flatten()\n",
    "b = full_curvesc[2][['voltage']].values.flatten()"
   ]
  },
  {
   "cell_type": "code",
   "execution_count": 4,
   "metadata": {},
   "outputs": [
    {
     "name": "stdout",
     "output_type": "stream",
     "text": [
      "802 1209\n"
     ]
    }
   ],
   "source": [
    "print(len(a),len(b))"
   ]
  },
  {
   "cell_type": "code",
   "execution_count": 5,
   "metadata": {},
   "outputs": [
    {
     "data": {
      "text/plain": [
       "dict_keys([1, 11, 21, 31, 41, 51, 61, 71, 81, 91, 101, 111, 121, 131, 141, 151, 161, 171, 181, 191, 201, 211, 221, 231, 241, 251, 261, 271, 281, 291, 301, 311, 321, 331, 351, 361, 371, 381, 391, 401, 411, 421, 431, 441, 451, 461, 471, 481, 491, 501, 511, 521, 531, 541, 551, 561, 571, 581, 591, 601, 611, 641, 651, 661, 671, 681, 691, 701, 811, 821, 831, 841, 851, 861, 871, 881, 891, 901, 911, 921, 931, 941, 951, 961, 971, 981, 991, 1001, 1011, 1021, 1031, 1041, 1051, 1061])"
      ]
     },
     "execution_count": 5,
     "metadata": {},
     "output_type": "execute_result"
    }
   ],
   "source": [
    "#Make a shorter partial curve dictionary to uses as train set (because if not the code takes too long)\n",
    "PL03c_short = {}\n",
    "for idx in range(1, len(PL03d.keys()), 10):\n",
    "        if idx in PL03d.keys():\n",
    "            if idx not in PL03c_short.keys():\n",
    "                PL03c_short[idx] = PL03c[idx]\n",
    "PL03c_short.keys()        "
   ]
  },
  {
   "cell_type": "code",
   "execution_count": 6,
   "metadata": {},
   "outputs": [
    {
     "data": {
      "text/plain": [
       "dict_keys([1, 11, 21, 31, 41, 51, 61, 71, 81, 91, 101, 111, 121, 131, 141, 151, 161, 171, 181, 191, 201, 211, 221, 231, 241, 251, 261, 271, 281, 291, 301, 311, 321, 331, 341, 351, 361, 371, 381, 391, 401, 481, 491, 501, 511, 521, 531, 541, 551, 561, 571, 581, 591, 601, 611, 621, 631, 641, 651, 661, 671, 681, 691, 701, 711, 721, 731, 741, 751, 761, 771, 781, 791, 801, 811, 821, 831])"
      ]
     },
     "execution_count": 6,
     "metadata": {},
     "output_type": "execute_result"
    }
   ],
   "source": [
    "#Make a shorter partial curve dictionary to uses as train set (because if not the code takes too long)\n",
    "full_curvesc_short = {}\n",
    "for idx in range(1, len(full_curvesc.keys()), 10):\n",
    "        if idx in full_curvesc.keys():\n",
    "            if idx not in full_curvesc_short.keys():\n",
    "                full_curvesc_short[idx] = full_curvesc[idx]\n",
    "full_curvesc_short.keys()"
   ]
  },
  {
   "cell_type": "code",
   "execution_count": 7,
   "metadata": {},
   "outputs": [],
   "source": [
    "from scipy.spatial.distance import euclidean\n",
    "from fastdtw import fastdtw\n",
    "\n",
    "def curve_distance(a,b):\n",
    "#Inputs are two nparray    \n",
    "    distance,path = fastdtw(a, b, dist=euclidean)\n",
    "    return distance"
   ]
  },
  {
   "cell_type": "code",
   "execution_count": 8,
   "metadata": {},
   "outputs": [],
   "source": [
    "def distance_cycle_to_full(cycle,dic1,dic2):\n",
    "#Inputs are 2 dictionaries and the number of cycle that is being tested\n",
    "    if cycle not in dic1.keys():\n",
    "        pass\n",
    "    else:\n",
    "        \n",
    "        a = dic1[cycle][['voltage']].values.flatten()\n",
    "        Y = []\n",
    "    \n",
    "        for idx in range(1,len(dic2.keys()) + 1):\n",
    "            if idx in dic2.keys():\n",
    "                b = dic2[idx][['voltage']].values.flatten()\n",
    "                if len(b) > 100: #This is to mae sure the full curve has values (check curve 102, it has only 1 value) \n",
    "                    b = dic2[idx][['voltage']].values.flatten() \n",
    "                    d = curve_distance(a,b)\n",
    "            \n",
    "                    A = [idx,d]\n",
    "                    Y.append(A)\n",
    "                else:\n",
    "                    pass\n",
    "            else:\n",
    "                pass\n",
    "    df = pd.DataFrame(Y, columns = ['Cycle','Distance'])\n",
    "    df = df.sort_values(by = ['Distance'])\n",
    "    \n",
    "    Distance = df['Distance'][df.index[0]]\n",
    "    return Distance"
   ]
  },
  {
   "cell_type": "code",
   "execution_count": 9,
   "metadata": {},
   "outputs": [],
   "source": [
    "def partial_to_full(dic1,dic2):\n",
    "    C = []\n",
    "    D = []\n",
    "    \n",
    "    for i in range(1, 1000):\n",
    "        if i in dic1.keys():\n",
    "            Distance = distance_cycle_to_full(i,dic1,dic2)\n",
    "            C.append(i)\n",
    "            D.append(Distance)\n",
    "        else:\n",
    "            pass\n",
    "    #For the model, we need the lists as NumPy arrays\n",
    "    D = np.array(D)\n",
    "    C = np.array(C)\n",
    "    return D,C"
   ]
  },
  {
   "cell_type": "code",
   "execution_count": 10,
   "metadata": {},
   "outputs": [
    {
     "data": {
      "text/plain": [
       "94"
      ]
     },
     "execution_count": 10,
     "metadata": {},
     "output_type": "execute_result"
    }
   ],
   "source": [
    "len(PL03c_short.keys())"
   ]
  },
  {
   "cell_type": "code",
   "execution_count": 15,
   "metadata": {},
   "outputs": [
    {
     "data": {
      "text/plain": [
       "182.61686372756958"
      ]
     },
     "execution_count": 15,
     "metadata": {},
     "output_type": "execute_result"
    }
   ],
   "source": [
    "distance_cycle_to_full(1,PL03c_short,full_curvesc_short)"
   ]
  },
  {
   "cell_type": "code",
   "execution_count": 19,
   "metadata": {},
   "outputs": [
    {
     "data": {
      "text/plain": [
       "114.33854365348816"
      ]
     },
     "execution_count": 19,
     "metadata": {},
     "output_type": "execute_result"
    }
   ],
   "source": [
    "distance_cycle_to_full(11,PL03c_short,full_curvesc_short)"
   ]
  },
  {
   "cell_type": "code",
   "execution_count": 11,
   "metadata": {},
   "outputs": [],
   "source": [
    "D, C = partial_to_full(PL03c_short,full_curvesc_short)"
   ]
  },
  {
   "cell_type": "markdown",
   "metadata": {},
   "source": [
    "Train the model:"
   ]
  },
  {
   "cell_type": "code",
   "execution_count": 20,
   "metadata": {},
   "outputs": [
    {
     "data": {
      "text/plain": [
       "KNeighborsClassifier(algorithm='auto', leaf_size=30, metric='minkowski',\n",
       "           metric_params=None, n_jobs=1, n_neighbors=1, p=2,\n",
       "           weights='uniform')"
      ]
     },
     "execution_count": 20,
     "metadata": {},
     "output_type": "execute_result"
    }
   ],
   "source": [
    "from sklearn.neighbors import KNeighborsClassifier\n",
    "neigh = KNeighborsClassifier(n_neighbors=1)\n",
    "neigh.fit(D.reshape(-1, 1), C) #Train the classifier with the distance and the corresponding cycles"
   ]
  },
  {
   "cell_type": "code",
   "execution_count": 21,
   "metadata": {},
   "outputs": [],
   "source": [
    "#For predicting first we need the distance between the testing curve to the full curves\n",
    "def distance_to_full(curve,dic):\n",
    " \n",
    "    #Convert the data in the data frame to a NumPy array\n",
    "    a = curve.values.flatten() \n",
    "    Y = []\n",
    "    \n",
    "    #Calculate the distances between the testing curve and each of the full curve cycle\n",
    "    for i in range(1,len(dic.keys()) + 1):\n",
    "        if i in dic.keys():\n",
    "            b = dic[i][['voltage']].values.flatten()\n",
    "            if len(b) > 100: #This is to mae sure the full curve has values (check curve 102, it has only 1 value)\n",
    "                d = curve_distance(a,b)\n",
    "            \n",
    "                A = [i,d]\n",
    "                Y.append(A)\n",
    "            else:\n",
    "                pass\n",
    "        else:\n",
    "            pass\n",
    "    #Creat a Pandas dataframe with the distances for each cycle. Sort the data frame by distance\n",
    "    df = pd.DataFrame(Y, columns = ['Cycle','Distance'])\n",
    "    df = df.sort_values(by = ['Distance'])\n",
    "    return df"
   ]
  },
  {
   "cell_type": "code",
   "execution_count": 22,
   "metadata": {},
   "outputs": [],
   "source": [
    "df = distance_to_full(PL10c[700]['voltage'],full_curvesc_short)"
   ]
  },
  {
   "cell_type": "code",
   "execution_count": 23,
   "metadata": {},
   "outputs": [
    {
     "data": {
      "text/plain": [
       "92.97753834724426"
      ]
     },
     "execution_count": 23,
     "metadata": {},
     "output_type": "execute_result"
    }
   ],
   "source": [
    "Dist = df['Distance'][df.index[0]]\n",
    "Dist"
   ]
  },
  {
   "cell_type": "code",
   "execution_count": 24,
   "metadata": {},
   "outputs": [
    {
     "data": {
      "text/plain": [
       "array([41])"
      ]
     },
     "execution_count": 24,
     "metadata": {},
     "output_type": "execute_result"
    }
   ],
   "source": [
    "neigh.predict(Dist)"
   ]
  },
  {
   "cell_type": "code",
   "execution_count": 25,
   "metadata": {},
   "outputs": [],
   "source": [
    "df = distance_to_full(PL10c[44]['voltage'],full_curvesc_short)"
   ]
  },
  {
   "cell_type": "code",
   "execution_count": 26,
   "metadata": {},
   "outputs": [
    {
     "data": {
      "text/plain": [
       "121.85904240608215"
      ]
     },
     "execution_count": 26,
     "metadata": {},
     "output_type": "execute_result"
    }
   ],
   "source": [
    "Dist = df['Distance'][df.index[0]]\n",
    "Dist"
   ]
  },
  {
   "cell_type": "code",
   "execution_count": 27,
   "metadata": {},
   "outputs": [
    {
     "data": {
      "text/plain": [
       "array([181])"
      ]
     },
     "execution_count": 27,
     "metadata": {},
     "output_type": "execute_result"
    }
   ],
   "source": [
    "neigh.predict(Dist)"
   ]
  },
  {
   "cell_type": "code",
   "execution_count": 29,
   "metadata": {},
   "outputs": [],
   "source": [
    "df = distance_to_full(PL10c[12]['voltage'],full_curvesc_short)"
   ]
  },
  {
   "cell_type": "code",
   "execution_count": 30,
   "metadata": {},
   "outputs": [
    {
     "data": {
      "text/plain": [
       "118.1771981716156"
      ]
     },
     "execution_count": 30,
     "metadata": {},
     "output_type": "execute_result"
    }
   ],
   "source": [
    "Dist = df['Distance'][df.index[0]]\n",
    "Dist"
   ]
  },
  {
   "cell_type": "code",
   "execution_count": 31,
   "metadata": {},
   "outputs": [
    {
     "data": {
      "text/plain": [
       "array([231])"
      ]
     },
     "execution_count": 31,
     "metadata": {},
     "output_type": "execute_result"
    }
   ],
   "source": [
    "neigh.predict(Dist)"
   ]
  },
  {
   "cell_type": "markdown",
   "metadata": {},
   "source": []
  }
 ],
 "metadata": {
  "kernelspec": {
   "display_name": "Python 3",
   "language": "python",
   "name": "python3"
  },
  "language_info": {
   "codemirror_mode": {
    "name": "ipython",
    "version": 3
   },
   "file_extension": ".py",
   "mimetype": "text/x-python",
   "name": "python",
   "nbconvert_exporter": "python",
   "pygments_lexer": "ipython3",
   "version": "3.6.4"
  }
 },
 "nbformat": 4,
 "nbformat_minor": 2
}
