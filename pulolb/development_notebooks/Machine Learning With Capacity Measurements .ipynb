{
 "cells": [
  {
   "cell_type": "markdown",
   "metadata": {},
   "source": [
    "## Machine Learning "
   ]
  },
  {
   "cell_type": "code",
   "execution_count": 1,
   "metadata": {},
   "outputs": [],
   "source": [
    "import pandas as pd\n",
    "import numpy as np\n",
    "import import_data\n",
    "import sort_data\n",
    "from tqdm import tqdm_notebook as tqdm\n",
    "import matplotlib.pyplot as plt\n",
    "\n",
    "%matplotlib inline"
   ]
  },
  {
   "cell_type": "code",
   "execution_count": 2,
   "metadata": {
    "collapsed": true
   },
   "outputs": [],
   "source": [
    "#Load the data. We need full curves and one partial curve (that represents the user's curve)\n",
    "\n",
    "PL03c,PL03d = sort_data.charge_discharge('converted_PL03.mat')\n",
    "full_curvesc,full_curvesd = sort_data.charge_discharge('converted_PL11.mat')"
   ]
  },
  {
   "cell_type": "code",
   "execution_count": 3,
   "metadata": {},
   "outputs": [
    {
     "data": {
      "text/plain": [
       "dict_keys([1, 51, 101, 151, 201, 251, 301, 351, 401, 451, 501, 551, 601, 651, 701, 851, 901, 951, 1001, 1051])"
      ]
     },
     "execution_count": 3,
     "metadata": {},
     "output_type": "execute_result"
    }
   ],
   "source": [
    "#Make a shorter partial curve dictionary to uses as train set (because if not the code takes too long)\n",
    "PL03d_short = {}\n",
    "for idx in range(1, len(PL03d.keys()), 50):\n",
    "        if idx in PL03d.keys():\n",
    "            if idx not in PL03d_short.keys():\n",
    "                PL03d_short[idx] = PL03d[idx]\n",
    "PL03d_short.keys()"
   ]
  },
  {
   "cell_type": "code",
   "execution_count": 4,
   "metadata": {},
   "outputs": [
    {
     "data": {
      "text/plain": [
       "dict_keys([1, 51, 101, 151, 201, 251, 301, 351, 401, 501, 551, 601, 651, 701, 751, 801])"
      ]
     },
     "execution_count": 4,
     "metadata": {},
     "output_type": "execute_result"
    }
   ],
   "source": [
    "#Make a shorter partial curve dictionary to uses as train set (because if not the code takes too long)\n",
    "full_curvesd_short = {}\n",
    "for idx in range(1, len(full_curvesd.keys()), 50):\n",
    "        if idx in full_curvesd.keys():\n",
    "            if idx not in full_curvesd_short.keys():\n",
    "                full_curvesd_short[idx] = full_curvesd[idx]\n",
    "full_curvesd_short.keys()"
   ]
  },
  {
   "cell_type": "code",
   "execution_count": null,
   "metadata": {
    "collapsed": true
   },
   "outputs": [],
   "source": []
  },
  {
   "cell_type": "code",
   "execution_count": 5,
   "metadata": {
    "collapsed": true
   },
   "outputs": [],
   "source": [
    "from scipy.spatial.distance import euclidean\n",
    "from fastdtw import fastdtw\n",
    "\n",
    "def curve_distance(a,b):\n",
    "#Inputs are two nparray    \n",
    "    distance,path = fastdtw(a, b, dist=euclidean)\n",
    "    return distance"
   ]
  },
  {
   "cell_type": "code",
   "execution_count": 6,
   "metadata": {
    "collapsed": true
   },
   "outputs": [],
   "source": [
    "def distance_cycle_to_full(cycle,dic1,dic2):\n",
    "#Inputs are 2 dictionaries and the number of cycle that is being tested\n",
    "    if cycle not in dic1.keys():\n",
    "        pass\n",
    "    else:\n",
    "        \n",
    "        # These parts here will get the max and min voltages in the partial curves. Also made it so that\n",
    "        # the partial curves are in 10 s intervals.\n",
    "        a = dic1[cycle][['voltage']].values.flatten()\n",
    "        a_max = a.max()\n",
    "        a_min = a.min()\n",
    "        a = a[1::2]\n",
    "        \n",
    "        Y = []\n",
    "    \n",
    "        for idx in tqdm(dic2.keys()):\n",
    "            if idx in dic2.keys():\n",
    "                b = dic2[idx][['voltage']].values.flatten()\n",
    "                if len(b) > 100: #This is to mae sure the full curve has values (check curve 102, it has only 1 value) \n",
    "                    # This creates the filter so that we are only looking at values within the partial curve voltages\n",
    "                    b = dic2[idx][['voltage']].values.flatten()\n",
    "                    b_max = np.argwhere(b < a_max)[0][0]\n",
    "                    b_min = np.argwhere(b > a_min)[-1][0]\n",
    "                    b = b[int(b_max):int(b_min)]\n",
    "                    \n",
    "                    d = curve_distance(a,b)\n",
    "            \n",
    "                    A = [idx,d]\n",
    "                    Y.append(A)\n",
    "                else:\n",
    "                    pass\n",
    "            else:\n",
    "                pass\n",
    "    df = pd.DataFrame(Y, columns = ['Cycle','Distance'])\n",
    "    df = df.sort_values(by = ['Distance'])\n",
    "    \n",
    "    return df"
   ]
  },
  {
   "cell_type": "code",
   "execution_count": 7,
   "metadata": {
    "collapsed": true
   },
   "outputs": [],
   "source": [
    "def partial_to_full(dic1,dic2):\n",
    "    \"\"\"dic1 will be the dictionary of the partial data, or the input, dic2 will be the dictionary of the full cycle data\"\"\"\n",
    "    C = []\n",
    "    D = []\n",
    "    F = []\n",
    "    \n",
    "    for i in tqdm(dic1.keys()):\n",
    "        df = distance_cycle_to_full(i,dic1,dic2)\n",
    "        Distance = df['Distance'][df.index[0]]\n",
    "        Full_cycle = df['Cycle'][df.index[0]]\n",
    "        C.append(i)\n",
    "        D.append(Distance)\n",
    "        F.append(Full_cycle)\n",
    "       \n",
    "    #For the model, we need the lists as NumPy arrays\n",
    "    D = np.array(D)\n",
    "    C = np.array(C)\n",
    "    F = np.array(F)\n",
    "    return D,C,F"
   ]
  },
  {
   "cell_type": "code",
   "execution_count": 8,
   "metadata": {},
   "outputs": [
    {
     "data": {
      "application/vnd.jupyter.widget-view+json": {
       "model_id": "cf7b3ce7706c427c8db0abdf34d0e73e",
       "version_major": 2,
       "version_minor": 0
      },
      "text/plain": [
       "A Jupyter Widget"
      ]
     },
     "metadata": {},
     "output_type": "display_data"
    },
    {
     "data": {
      "application/vnd.jupyter.widget-view+json": {
       "model_id": "8998860e1a93462b82d0b8ee09c90f5a",
       "version_major": 2,
       "version_minor": 0
      },
      "text/plain": [
       "A Jupyter Widget"
      ]
     },
     "metadata": {},
     "output_type": "display_data"
    },
    {
     "data": {
      "application/vnd.jupyter.widget-view+json": {
       "model_id": "45af9419cc2c42649676297a8518b30d",
       "version_major": 2,
       "version_minor": 0
      },
      "text/plain": [
       "A Jupyter Widget"
      ]
     },
     "metadata": {},
     "output_type": "display_data"
    },
    {
     "data": {
      "application/vnd.jupyter.widget-view+json": {
       "model_id": "3cd352c8ee0248a0a55d65e3833589ee",
       "version_major": 2,
       "version_minor": 0
      },
      "text/plain": [
       "A Jupyter Widget"
      ]
     },
     "metadata": {},
     "output_type": "display_data"
    },
    {
     "data": {
      "application/vnd.jupyter.widget-view+json": {
       "model_id": "47ff39f8e1774f8d886d3bb2b7939574",
       "version_major": 2,
       "version_minor": 0
      },
      "text/plain": [
       "A Jupyter Widget"
      ]
     },
     "metadata": {},
     "output_type": "display_data"
    },
    {
     "data": {
      "application/vnd.jupyter.widget-view+json": {
       "model_id": "a6a254de981b400d91521fe5ecb4f8b0",
       "version_major": 2,
       "version_minor": 0
      },
      "text/plain": [
       "A Jupyter Widget"
      ]
     },
     "metadata": {},
     "output_type": "display_data"
    },
    {
     "data": {
      "application/vnd.jupyter.widget-view+json": {
       "model_id": "38079c8ef6c047d5a9d7e7651f754f91",
       "version_major": 2,
       "version_minor": 0
      },
      "text/plain": [
       "A Jupyter Widget"
      ]
     },
     "metadata": {},
     "output_type": "display_data"
    },
    {
     "data": {
      "application/vnd.jupyter.widget-view+json": {
       "model_id": "96a8c3f518b9408586954677308f88ad",
       "version_major": 2,
       "version_minor": 0
      },
      "text/plain": [
       "A Jupyter Widget"
      ]
     },
     "metadata": {},
     "output_type": "display_data"
    },
    {
     "data": {
      "application/vnd.jupyter.widget-view+json": {
       "model_id": "56ced2504540468daa50de7632ca3104",
       "version_major": 2,
       "version_minor": 0
      },
      "text/plain": [
       "A Jupyter Widget"
      ]
     },
     "metadata": {},
     "output_type": "display_data"
    },
    {
     "data": {
      "application/vnd.jupyter.widget-view+json": {
       "model_id": "cd2c1eb969ef4f8b8484253895db7395",
       "version_major": 2,
       "version_minor": 0
      },
      "text/plain": [
       "A Jupyter Widget"
      ]
     },
     "metadata": {},
     "output_type": "display_data"
    },
    {
     "data": {
      "application/vnd.jupyter.widget-view+json": {
       "model_id": "db5233f060074855b6b1949e7c74b204",
       "version_major": 2,
       "version_minor": 0
      },
      "text/plain": [
       "A Jupyter Widget"
      ]
     },
     "metadata": {},
     "output_type": "display_data"
    },
    {
     "data": {
      "application/vnd.jupyter.widget-view+json": {
       "model_id": "07fa2b002ccb4a21b873c8a6b085743f",
       "version_major": 2,
       "version_minor": 0
      },
      "text/plain": [
       "A Jupyter Widget"
      ]
     },
     "metadata": {},
     "output_type": "display_data"
    },
    {
     "data": {
      "application/vnd.jupyter.widget-view+json": {
       "model_id": "d9c9555dcf4240859d836019075cdcdc",
       "version_major": 2,
       "version_minor": 0
      },
      "text/plain": [
       "A Jupyter Widget"
      ]
     },
     "metadata": {},
     "output_type": "display_data"
    },
    {
     "data": {
      "application/vnd.jupyter.widget-view+json": {
       "model_id": "15719888d0324561b819ae5392921ab7",
       "version_major": 2,
       "version_minor": 0
      },
      "text/plain": [
       "A Jupyter Widget"
      ]
     },
     "metadata": {},
     "output_type": "display_data"
    },
    {
     "data": {
      "application/vnd.jupyter.widget-view+json": {
       "model_id": "6c2a9cc6444346ef9cbd54e066809dd6",
       "version_major": 2,
       "version_minor": 0
      },
      "text/plain": [
       "A Jupyter Widget"
      ]
     },
     "metadata": {},
     "output_type": "display_data"
    },
    {
     "data": {
      "application/vnd.jupyter.widget-view+json": {
       "model_id": "c007f2b3b8a14a569683ba6df3eeaac2",
       "version_major": 2,
       "version_minor": 0
      },
      "text/plain": [
       "A Jupyter Widget"
      ]
     },
     "metadata": {},
     "output_type": "display_data"
    },
    {
     "data": {
      "application/vnd.jupyter.widget-view+json": {
       "model_id": "85834181213e49b3b0be0c7feae182c5",
       "version_major": 2,
       "version_minor": 0
      },
      "text/plain": [
       "A Jupyter Widget"
      ]
     },
     "metadata": {},
     "output_type": "display_data"
    },
    {
     "data": {
      "application/vnd.jupyter.widget-view+json": {
       "model_id": "f0aa9f5c904744edae3dd13ea8843318",
       "version_major": 2,
       "version_minor": 0
      },
      "text/plain": [
       "A Jupyter Widget"
      ]
     },
     "metadata": {},
     "output_type": "display_data"
    },
    {
     "data": {
      "application/vnd.jupyter.widget-view+json": {
       "model_id": "26926ca2df3b46439ada26146316587a",
       "version_major": 2,
       "version_minor": 0
      },
      "text/plain": [
       "A Jupyter Widget"
      ]
     },
     "metadata": {},
     "output_type": "display_data"
    },
    {
     "data": {
      "application/vnd.jupyter.widget-view+json": {
       "model_id": "e572b0e216674ba0b211c9f9a8a696b9",
       "version_major": 2,
       "version_minor": 0
      },
      "text/plain": [
       "A Jupyter Widget"
      ]
     },
     "metadata": {},
     "output_type": "display_data"
    },
    {
     "data": {
      "application/vnd.jupyter.widget-view+json": {
       "model_id": "8caea1c3b70a4360914b8ec24cac7103",
       "version_major": 2,
       "version_minor": 0
      },
      "text/plain": [
       "A Jupyter Widget"
      ]
     },
     "metadata": {},
     "output_type": "display_data"
    },
    {
     "name": "stdout",
     "output_type": "stream",
     "text": [
      "\n"
     ]
    }
   ],
   "source": [
    "D, C, F = partial_to_full(PL03d_short,full_curvesd_short)"
   ]
  },
  {
   "cell_type": "code",
   "execution_count": 19,
   "metadata": {},
   "outputs": [
    {
     "data": {
      "text/plain": [
       "array([101, 101, 101, 101, 101, 101, 101, 151, 151, 251, 251, 301, 301,\n",
       "       351, 351, 401, 401, 401, 401, 401], dtype=int64)"
      ]
     },
     "execution_count": 19,
     "metadata": {},
     "output_type": "execute_result"
    }
   ],
   "source": [
    "np.sort(F)"
   ]
  },
  {
   "cell_type": "code",
   "execution_count": 21,
   "metadata": {},
   "outputs": [
    {
     "data": {
      "text/plain": [
       "array([   1,   51,  101,  151,  201,  251,  301,  351,  401,  451,  501,\n",
       "        551,  601,  651,  701,  851,  901,  951, 1001, 1051])"
      ]
     },
     "execution_count": 21,
     "metadata": {},
     "output_type": "execute_result"
    }
   ],
   "source": [
    "C"
   ]
  },
  {
   "cell_type": "code",
   "execution_count": 20,
   "metadata": {},
   "outputs": [
    {
     "data": {
      "text/plain": [
       "array([301, 151, 101, 151, 301, 101, 101, 101, 251, 101, 101, 101, 251,\n",
       "       351, 351, 401, 401, 401, 401, 401], dtype=int64)"
      ]
     },
     "execution_count": 20,
     "metadata": {},
     "output_type": "execute_result"
    }
   ],
   "source": [
    "F"
   ]
  },
  {
   "cell_type": "code",
   "execution_count": 9,
   "metadata": {
    "collapsed": true
   },
   "outputs": [],
   "source": [
    "cap = 1.5\n",
    "Capacity = []\n",
    "Percent = []\n",
    "Time = []\n",
    "Slope = []\n",
    "Intercept = []\n",
    "Life = []\n",
    "for i in range(1,len(F)-1):\n",
    "    idx = full_curvesd_short[F[i]].shape[0]\n",
    "    capacity = full_curvesd_short[F[i]]['discharge_ah'][full_curvesd_short[F[i]].index[idx-1]] - full_curvesd_short[F[i]]['discharge_ah'][full_curvesd_short[F[i]].index[0]]\n",
    "    \n",
    "    time = PL03d_short[C[i]]['time'][PL03d_short[C[i]].index[PL03d_short[C[i]].shape[0]-1]]\n",
    "    percent = ((capacity)/cap)*100 #IS THIS EQUATION OK??????                                                   \n",
    "    #Coeff. for linear regression \n",
    "    coeff = np.polyfit([float(0),time],[float(100),percent],1)\n",
    "    #Calculate the failure time\n",
    "    life = -coeff[1]/coeff[0]\n",
    "        \n",
    "    Capacity.append(capacity)\n",
    "    Percent.append(percent)\n",
    "    Time.append(time)\n",
    "    Slope.append(coeff[0])\n",
    "    Intercept.append(coeff[1])\n",
    "    Life.append(life)"
   ]
  },
  {
   "cell_type": "code",
   "execution_count": 9,
   "metadata": {
    "collapsed": true
   },
   "outputs": [],
   "source": [
    "def get_lifetime(dic1,dic2,cap):\n",
    "    \n",
    "    D,C,F = partial_to_full(dic1,dic2)\n",
    "\n",
    "    #For the prediction, get the full and partial curves\n",
    "    \n",
    "    Capacity = []\n",
    "    Percent = []\n",
    "    Time = []\n",
    "    Slope = []\n",
    "    Intercept = []\n",
    "    Life = []\n",
    "    for i in range(1,len(F)-1):\n",
    "        idx = dic2[F[i]].shape[0]\n",
    "        capacity = dic2[F[i]]['discharge_ah'][dic2[F[i]].index[idx-1]] - dic2[F[i]]['discharge_ah'][dic2[F[i]].index[0]]\n",
    "    \n",
    "        time = dic1[C[i]]['time'][dic1[C[i]].index[dic1[C[i]].shape[0]-1]]\n",
    "        percent = ((capacity)/cap)*100                                                    \n",
    "        #Coeff. for linear regression \n",
    "        coeff = np.polyfit([float(0),time],[float(100),percent],1)\n",
    "        #Calculate the failure time\n",
    "        life = -coeff[1]/coeff[0]\n",
    "        \n",
    "        Capacity.append(capacity)\n",
    "        Percent.append(percent)\n",
    "        Time.append(time)\n",
    "        Slope.append(coeff[0])\n",
    "        Intercept.append(coeff[1])\n",
    "        Life.append(life)\n",
    "    \n",
    "    return Percent, Time, Slope, Intercept, Life"
   ]
  },
  {
   "cell_type": "code",
   "execution_count": 10,
   "metadata": {},
   "outputs": [
    {
     "data": {
      "application/vnd.jupyter.widget-view+json": {
       "model_id": "94cb734f6a544b948148a6d7c2d8075c",
       "version_major": 2,
       "version_minor": 0
      },
      "text/plain": [
       "A Jupyter Widget"
      ]
     },
     "metadata": {},
     "output_type": "display_data"
    },
    {
     "data": {
      "application/vnd.jupyter.widget-view+json": {
       "model_id": "838c75d507af431d9817599ec36430df",
       "version_major": 2,
       "version_minor": 0
      },
      "text/plain": [
       "A Jupyter Widget"
      ]
     },
     "metadata": {},
     "output_type": "display_data"
    },
    {
     "data": {
      "application/vnd.jupyter.widget-view+json": {
       "model_id": "493ba313e8f9461bb05e28f8426dcee0",
       "version_major": 2,
       "version_minor": 0
      },
      "text/plain": [
       "A Jupyter Widget"
      ]
     },
     "metadata": {},
     "output_type": "display_data"
    },
    {
     "data": {
      "application/vnd.jupyter.widget-view+json": {
       "model_id": "34d67a3bc9ce44a0a638e48197331718",
       "version_major": 2,
       "version_minor": 0
      },
      "text/plain": [
       "A Jupyter Widget"
      ]
     },
     "metadata": {},
     "output_type": "display_data"
    },
    {
     "data": {
      "application/vnd.jupyter.widget-view+json": {
       "model_id": "a25aa464e87144d2bdcd01b025b19ef7",
       "version_major": 2,
       "version_minor": 0
      },
      "text/plain": [
       "A Jupyter Widget"
      ]
     },
     "metadata": {},
     "output_type": "display_data"
    },
    {
     "data": {
      "application/vnd.jupyter.widget-view+json": {
       "model_id": "4c75c3973c7949b8869557cc41fe8413",
       "version_major": 2,
       "version_minor": 0
      },
      "text/plain": [
       "A Jupyter Widget"
      ]
     },
     "metadata": {},
     "output_type": "display_data"
    },
    {
     "data": {
      "application/vnd.jupyter.widget-view+json": {
       "model_id": "1a042340658a47e799c43c62659dcd27",
       "version_major": 2,
       "version_minor": 0
      },
      "text/plain": [
       "A Jupyter Widget"
      ]
     },
     "metadata": {},
     "output_type": "display_data"
    },
    {
     "data": {
      "application/vnd.jupyter.widget-view+json": {
       "model_id": "5ed539a7c2c04bd5a10563c10dae4185",
       "version_major": 2,
       "version_minor": 0
      },
      "text/plain": [
       "A Jupyter Widget"
      ]
     },
     "metadata": {},
     "output_type": "display_data"
    },
    {
     "data": {
      "application/vnd.jupyter.widget-view+json": {
       "model_id": "2de37aa68adb4364b6cef91274957bca",
       "version_major": 2,
       "version_minor": 0
      },
      "text/plain": [
       "A Jupyter Widget"
      ]
     },
     "metadata": {},
     "output_type": "display_data"
    },
    {
     "data": {
      "application/vnd.jupyter.widget-view+json": {
       "model_id": "39afc1210e9c4a948f259519a9a2b9d5",
       "version_major": 2,
       "version_minor": 0
      },
      "text/plain": [
       "A Jupyter Widget"
      ]
     },
     "metadata": {},
     "output_type": "display_data"
    },
    {
     "data": {
      "application/vnd.jupyter.widget-view+json": {
       "model_id": "c3edcccde86f438eb163a532ec9f4d71",
       "version_major": 2,
       "version_minor": 0
      },
      "text/plain": [
       "A Jupyter Widget"
      ]
     },
     "metadata": {},
     "output_type": "display_data"
    },
    {
     "data": {
      "application/vnd.jupyter.widget-view+json": {
       "model_id": "dd673918d74447419b53ec6e98e23b30",
       "version_major": 2,
       "version_minor": 0
      },
      "text/plain": [
       "A Jupyter Widget"
      ]
     },
     "metadata": {},
     "output_type": "display_data"
    },
    {
     "data": {
      "application/vnd.jupyter.widget-view+json": {
       "model_id": "eb8aa75a0579492788f52432ea20e891",
       "version_major": 2,
       "version_minor": 0
      },
      "text/plain": [
       "A Jupyter Widget"
      ]
     },
     "metadata": {},
     "output_type": "display_data"
    },
    {
     "data": {
      "application/vnd.jupyter.widget-view+json": {
       "model_id": "e4ca9a12623b4f07ad1cfc2cc0cfff40",
       "version_major": 2,
       "version_minor": 0
      },
      "text/plain": [
       "A Jupyter Widget"
      ]
     },
     "metadata": {},
     "output_type": "display_data"
    },
    {
     "data": {
      "application/vnd.jupyter.widget-view+json": {
       "model_id": "9d3751713b7144da8c84f108b0765348",
       "version_major": 2,
       "version_minor": 0
      },
      "text/plain": [
       "A Jupyter Widget"
      ]
     },
     "metadata": {},
     "output_type": "display_data"
    },
    {
     "data": {
      "application/vnd.jupyter.widget-view+json": {
       "model_id": "cc5c1bcf24ef47e09e35902695221c3a",
       "version_major": 2,
       "version_minor": 0
      },
      "text/plain": [
       "A Jupyter Widget"
      ]
     },
     "metadata": {},
     "output_type": "display_data"
    },
    {
     "data": {
      "application/vnd.jupyter.widget-view+json": {
       "model_id": "d5fc999ef7714ac18aa119bc0d05e3e9",
       "version_major": 2,
       "version_minor": 0
      },
      "text/plain": [
       "A Jupyter Widget"
      ]
     },
     "metadata": {},
     "output_type": "display_data"
    },
    {
     "data": {
      "application/vnd.jupyter.widget-view+json": {
       "model_id": "c212c60ecdbf4cf09d23cd2a171b81eb",
       "version_major": 2,
       "version_minor": 0
      },
      "text/plain": [
       "A Jupyter Widget"
      ]
     },
     "metadata": {},
     "output_type": "display_data"
    },
    {
     "data": {
      "application/vnd.jupyter.widget-view+json": {
       "model_id": "4f9c13f902c045d6b5990b0d9372b923",
       "version_major": 2,
       "version_minor": 0
      },
      "text/plain": [
       "A Jupyter Widget"
      ]
     },
     "metadata": {},
     "output_type": "display_data"
    },
    {
     "data": {
      "application/vnd.jupyter.widget-view+json": {
       "model_id": "d45a479ca7f14e29931b5bbb8ee8585d",
       "version_major": 2,
       "version_minor": 0
      },
      "text/plain": [
       "A Jupyter Widget"
      ]
     },
     "metadata": {},
     "output_type": "display_data"
    },
    {
     "data": {
      "application/vnd.jupyter.widget-view+json": {
       "model_id": "54d36b2647ae4cbca4007ac50541a385",
       "version_major": 2,
       "version_minor": 0
      },
      "text/plain": [
       "A Jupyter Widget"
      ]
     },
     "metadata": {},
     "output_type": "display_data"
    },
    {
     "name": "stdout",
     "output_type": "stream",
     "text": [
      "\n"
     ]
    }
   ],
   "source": [
    "Percent, Time, Slope, Intercept, Life = get_lifetime(PL03d_short,full_curvesd_short,1.5)"
   ]
  },
  {
   "cell_type": "code",
   "execution_count": 31,
   "metadata": {
    "collapsed": true
   },
   "outputs": [],
   "source": [
    "def life_plot(time,slope,intercept,percent,life):\n",
    "    \n",
    "    fig = plt.figure(figsize = (8, 6))\n",
    "    x = [time/(3600*24*7),life/(3600*24*7)]\n",
    "    y = [time*slope + intercept, life*slope + intercept]\n",
    "    \n",
    "    x1 = [0,time/(3600*24*7)]\n",
    "    y1 = [intercept, time*slope + intercept]\n",
    "   \n",
    "    plt.plot(x1,y1)\n",
    "    plt.scatter(time/(3600*24*7),percent)\n",
    "    plt.plot(x,y,ls = '--')\n",
    "    plt.ylim(0, 100)\n",
    "    plt.xlim(0, 52)#life/(3600*24*7))\n",
    "    plt.title('Life prediction')\n",
    "    plt.xlabel('Time (weeks)')\n",
    "    plt.ylabel('Remaining Capacity (%)')\n",
    "    plt.axhline(y = 80)\n",
    "    return "
   ]
  },
  {
   "cell_type": "code",
   "execution_count": 26,
   "metadata": {},
   "outputs": [
    {
     "data": {
      "text/plain": [
       "18"
      ]
     },
     "execution_count": 26,
     "metadata": {},
     "output_type": "execute_result"
    }
   ],
   "source": [
    "len(Percent)"
   ]
  },
  {
   "cell_type": "code",
   "execution_count": 23,
   "metadata": {},
   "outputs": [
    {
     "data": {
      "image/png": "[encoded data removed]",
      "text/plain": [
       "<matplotlib.figure.Figure at 0x17e98119860>"
      ]
     },
     "metadata": {},
     "output_type": "display_data"
    }
   ],
   "source": [
    "life_plot(Time[1],Slope[1],Intercept[1],Percent[1],Life[1])\n"
   ]
  },
  {
   "cell_type": "code",
   "execution_count": 32,
   "metadata": {},
   "outputs": [
    {
     "data": {
      "image/png": "[encoded data removed]",
      "text/plain": [
       "<matplotlib.figure.Figure at 0x17e98508e10>"
      ]
     },
     "metadata": {},
     "output_type": "display_data"
    }
   ],
   "source": [
    "life_plot(Time[17],Slope[17],Intercept[17],Percent[17],Life[17])\n"
   ]
  },
  {
   "cell_type": "code",
   "execution_count": null,
   "metadata": {
    "collapsed": true
   },
   "outputs": [],
   "source": []
  }
 ],
 "metadata": {
  "kernelspec": {
   "display_name": "Python 3",
   "language": "python",
   "name": "python3"
  },
  "language_info": {
   "codemirror_mode": {
    "name": "ipython",
    "version": 3
   },
   "file_extension": ".py",
   "mimetype": "text/x-python",
   "name": "python",
   "nbconvert_exporter": "python",
   "pygments_lexer": "ipython3",
   "version": "3.6.3"
  }
 },
 "nbformat": 4,
 "nbformat_minor": 2
}
