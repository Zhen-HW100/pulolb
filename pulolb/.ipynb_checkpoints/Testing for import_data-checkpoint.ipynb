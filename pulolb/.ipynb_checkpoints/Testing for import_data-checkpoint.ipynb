{
 "cells": [
  {
   "cell_type": "markdown",
   "metadata": {},
   "source": [
    "## Unit test for ``import_data``"
   ]
  },
  {
   "cell_type": "code",
   "execution_count": 2,
   "metadata": {},
   "outputs": [
    {
     "name": "stderr",
     "output_type": "stream",
     "text": [
      "/Users/rossana13/miniconda3/lib/python3.6/site-packages/h5py/__init__.py:36: FutureWarning: Conversion of the second argument of issubdtype from `float` to `np.floating` is deprecated. In future, it will be treated as `np.float64 == np.dtype(float).type`.\n",
      "  from ._conv import register_converters as _register_converters\n"
     ]
    }
   ],
   "source": [
    "import hdf5storage\n",
    "import numpy as np\n",
    "import pandas as pd\n",
    "\n",
    "\n",
    "def import_matlab_data(filename):\n",
    "    \"\"\"Taking a Matlab file of Arbin data from the CALCE database and imports it into a host of different NumPy arrays\n",
    "        Filename: Matlab file \n",
    "    \"\"\"\n",
    "    \n",
    "    #Importing the file as a HDF5 dataframe, stored in the form of a dictionary.  \n",
    "    df = hdf5storage.loadmat(filename)\n",
    "    return df\n",
    "\n",
    "\n",
    "def initialize_datasets(filename):\n",
    "    \"\"\"This function initializes the columns of the dataframe. \n",
    "        Filename = matlab file\n",
    "    \"\"\"\n",
    "    \n",
    "    #Generate the dataframe\n",
    "    df = import_matlab_data(filename) \n",
    "    #Define a variable that contains the names of the dictionary's keys\n",
    "    keys = df.keys()\n",
    "\n",
    "    #Store the filename (second key in the dictionary) under the variable call 'data' \n",
    "    for i in keys:\n",
    "        if i == '#subsystem#':\n",
    "            pass\n",
    "        else:\n",
    "            data = i\n",
    "    #To get the data out of the subsystem, start the count at 2\n",
    "    count = 2\n",
    "\n",
    "    for idx in range(1, len(df[data])):\n",
    "        #Get the time column from the dataset (this gives the length of the experiment)\n",
    "        time_sum = df['#subsystem#'][0][0][0][count][0][0].flatten()\n",
    "\n",
    "        #Evaluate the length of the experiment. \n",
    "        #If it is a single cycle (less than 3500 data points), ignore it and go to the next experiment  \n",
    "        if len(time_sum) < 3500:\n",
    "            count = count + 7\n",
    "        #If there are more cycles, initialize the names of the columns.\n",
    "        else:\n",
    "            datetime_sum = df['#subsystem#'][0][0][0][count][0][1].flatten()\n",
    "            step_sum = df['#subsystem#'][0][0][0][count][0][2].flatten()\n",
    "            cycle_sum = df['#subsystem#'][0][0][0][count][0][3].flatten()\n",
    "            current_sum = df['#subsystem#'][0][0][0][count][0][4].flatten()\n",
    "            voltage_sum = df['#subsystem#'][0][0][0][count][0][5].flatten()\n",
    "            charge_ah_sum = df['#subsystem#'][0][0][0][count][0][6].flatten()\n",
    "            discharge_ah_sum = df['#subsystem#'][0][0][0][count][0][7].flatten()\n",
    "            count = count + 7\n",
    "            break\n",
    "    \n",
    "    return count, idx, time_sum, datetime_sum, step_sum, cycle_sum, current_sum, voltage_sum, charge_ah_sum, discharge_ah_sum    \n",
    "\n",
    "def single_pd_matlab_data(filename):\n",
    "    \"\"\"This function generates a dataframe with all the cycles included in the matlab file.\n",
    "        Filename = matlab file\n",
    "    \"\"\"\n",
    "\n",
    "    #Generate the dataframe\n",
    "    df = import_matlab_data(filename) \n",
    "    #Define a variable that contains the names of the dictionary's keys\n",
    "    keys = df.keys() \n",
    "\n",
    "    #Store the filename (second key in the dictionary) under the variable call 'data'\n",
    "    for i in keys:\n",
    "        if i == '#subsystem#':\n",
    "            pass\n",
    "        else:\n",
    "            data = i\n",
    "\n",
    "    #Initialize the name of the columns             \n",
    "    count, idx, time_sum, datetime_sum, step_sum, cycle_sum, current_sum, voltage_sum, charge_ah_sum, discharge_ah_sum = initialize_datasets(filename)\n",
    "    \n",
    "    #Start the count from the 3rd row of the dataset\n",
    "    start_ind = idx + 1\n",
    "  \n",
    "    for idx in range(int(start_ind), len(df[data])):\n",
    "        #To access the number of cycles in each dataset.\n",
    "        length_test = (df['#subsystem#'][0][0][0][count][0][0].flatten())\n",
    "         \n",
    "        #For missing data: Store the number of cycles with missing data and add them up into the cycles count\n",
    "        if df[data][idx][2].shape == (0,0):\n",
    "            name = df[data][idx][0][0][0]\n",
    "            name = name.split(' ')\n",
    "            number = float(name[0])\n",
    "            cycle_sum = np.append(cycle_sum, (cycle_sum[-1] + number))\n",
    "        #For single cycles: Ignore cycles with less than 3500 values.\n",
    "        elif len(length_test) < 3500:\n",
    "            count = count + 7\n",
    "        #Extract data from each column\n",
    "        else:\n",
    "            time_idx = (df['#subsystem#'][0][0][0][count][0][0].flatten()) + time_sum[-1]\n",
    "            time_sum = np.concatenate((time_sum, time_idx), axis = 0)\n",
    "\n",
    "            datetime_idx = df['#subsystem#'][0][0][0][count][0][1].flatten()\n",
    "            datetime_sum = np.concatenate((datetime_sum, datetime_idx), axis = 0)\n",
    "\n",
    "            step_idx = df['#subsystem#'][0][0][0][count][0][2].flatten()\n",
    "            step_sum = np.concatenate((step_sum, step_idx), axis = 0)\n",
    "\n",
    "            #For the cycle number, evaluate if there were missing data.\n",
    "            if len(cycle_sum) > len(current_sum):\n",
    "                diff = len(cycle_sum) - len(current_sum)\n",
    "                cycle_prior = cycle_sum[-1]\n",
    "                for i in range(0,diff):\n",
    "                    cycle_sum = np.delete(cycle_sum, -1)\n",
    "                cycle_idx = (df['#subsystem#'][0][0][0][count][0][3].flatten()) + cycle_prior\n",
    "                cycle_test = (df['#subsystem#'][0][0][0][count][0][3].flatten())\n",
    "                cycle_sum = np.concatenate((cycle_sum, cycle_idx), axis = 0)\n",
    "            else:\n",
    "                cycle_prior = cycle_sum[-1]\n",
    "                cycle_idx = (df['#subsystem#'][0][0][0][count][0][3].flatten()) + cycle_prior\n",
    "                cycle_test = (df['#subsystem#'][0][0][0][count][0][3].flatten())\n",
    "                cycle_sum = np.concatenate((cycle_sum, cycle_idx), axis = 0)\n",
    "\n",
    "            current_idx = df['#subsystem#'][0][0][0][count][0][4].flatten()\n",
    "            current_sum = np.concatenate((current_sum, current_idx), axis = 0)\n",
    "\n",
    "            voltage_idx = df['#subsystem#'][0][0][0][count][0][5].flatten()\n",
    "            voltage_sum = np.concatenate((voltage_sum, voltage_idx), axis = 0)\n",
    "\n",
    "            charge_ah_idx = df['#subsystem#'][0][0][0][count][0][6].flatten()\n",
    "            charge_ah_sum = np.concatenate((charge_ah_sum, charge_ah_idx), axis = 0)\n",
    "\n",
    "            discharge_ah_idx = df['#subsystem#'][0][0][0][count][0][7].flatten()\n",
    "            discharge_ah_sum = np.concatenate((discharge_ah_sum, discharge_ah_idx), axis = 0)\n",
    "\n",
    "            count = count + 7\n",
    "\n",
    "            if count > (len(df['#subsystem#'][0][0][0])-7):\n",
    "                break\n",
    "\n",
    "    #Creat a DataFrame from the arrays for each column             \n",
    "    host_df = pd.DataFrame()\n",
    "\n",
    "    host_df['time'] = time_sum\n",
    "    host_df['datetime'] = datetime_sum\n",
    "    host_df['step'] = step_sum\n",
    "    host_df['cycle'] = cycle_sum\n",
    "    host_df['current_amp'] = current_sum\n",
    "    host_df['voltage'] = voltage_sum\n",
    "    host_df['charge_ah'] = charge_ah_sum\n",
    "    host_df['discharge_ah'] = discharge_ah_sum\n",
    "    \n",
    "    return host_df"
   ]
  },
  {
   "cell_type": "code",
   "execution_count": 3,
   "metadata": {},
   "outputs": [],
   "source": [
    "df2 = hdf5storage.loadmat('converted_PL03.mat')"
   ]
  },
  {
   "cell_type": "code",
   "execution_count": 6,
   "metadata": {},
   "outputs": [
    {
     "data": {
      "text/plain": [
       "2"
      ]
     },
     "execution_count": 6,
     "metadata": {},
     "output_type": "execute_result"
    }
   ],
   "source": [
    "len(df2.keys())"
   ]
  },
  {
   "cell_type": "code",
   "execution_count": 15,
   "metadata": {},
   "outputs": [
    {
     "data": {
      "text/plain": [
       "numpy.ndarray"
      ]
     },
     "execution_count": 15,
     "metadata": {},
     "output_type": "execute_result"
    }
   ],
   "source": [
    "type(df2['#subsystem#'][0][0][0][2][0][0].flatten())\n"
   ]
  },
  {
   "cell_type": "code",
   "execution_count": 8,
   "metadata": {},
   "outputs": [],
   "source": [
    "import import_data\n",
    "import pandas as pd\n",
    "import numpy as np\n",
    "\n",
    "def test_import_matlab_data():\n",
    "    \n",
    "    df = import_matlab_data('converted_PL03.mat')\n",
    "    \n",
    "    assert len(df2.keys()) == 2\n",
    "    \n"
   ]
  },
  {
   "cell_type": "code",
   "execution_count": 9,
   "metadata": {},
   "outputs": [],
   "source": [
    "test_import_matlab_data()"
   ]
  },
  {
   "cell_type": "code",
   "execution_count": 11,
   "metadata": {},
   "outputs": [
    {
     "data": {
      "text/plain": [
       "numpy.ndarray"
      ]
     },
     "execution_count": 11,
     "metadata": {},
     "output_type": "execute_result"
    }
   ],
   "source": [
    "a = np.array([1,1,1])\n",
    "type(a)"
   ]
  },
  {
   "cell_type": "code",
   "execution_count": 29,
   "metadata": {},
   "outputs": [],
   "source": [
    "count, idx, time_sum, datetime_sum, step_sum, cycle_sum, current_sum, voltage_sum, charge_ah_sum, discharge_ah_sum = initialize_datasets('converted_PL03.mat')"
   ]
  },
  {
   "cell_type": "code",
   "execution_count": 31,
   "metadata": {},
   "outputs": [
    {
     "data": {
      "text/plain": [
       "numpy.ndarray"
      ]
     },
     "execution_count": 31,
     "metadata": {},
     "output_type": "execute_result"
    }
   ],
   "source": [
    "type(datetime_sum)"
   ]
  },
  {
   "cell_type": "code",
   "execution_count": 41,
   "metadata": {},
   "outputs": [],
   "source": [
    "import import_data\n",
    "import pandas as pd\n",
    "import numpy as np\n",
    "\n",
    "def test_initialize_datasets():\n",
    "    \n",
    "    count, idx, time_sum, datetime_sum, step_sum, cycle_sum, current_sum, voltage_sum, charge_ah_sum, discharge_ah_sum = initialize_datasets('converted_PL03.mat')\n",
    "    \n",
    "    assert count == 16\n",
    "    assert idx == 2\n",
    "    #The other outputs should be NumPy arrays. Test that with an auxiliar array\n",
    "    a = np.array([1,1,1]) \n",
    "    \n",
    "    assert type(a) == type(time_sum)\n",
    "    assert type(time_sum) == type(datetime_sum)\n",
    "    assert type(time_sum) == type(step_sum)\n",
    "    assert type(time_sum) == type(cycle_sum)\n",
    "    assert type(time_sum) == type(current_sum)\n",
    "    assert type(time_sum) == type(voltage_sum)\n",
    "    assert type(time_sum) == type(charge_ah_sum)\n",
    "    assert type(time_sum) == type(discharge_ah_sum)\n",
    "    \n",
    "    \n",
    "    "
   ]
  },
  {
   "cell_type": "code",
   "execution_count": 42,
   "metadata": {},
   "outputs": [],
   "source": [
    "test_initialize_datasets()"
   ]
  },
  {
   "cell_type": "code",
   "execution_count": null,
   "metadata": {},
   "outputs": [],
   "source": [
    "import import_data\n",
    "import pandas as pd\n",
    "import numpy as np\n",
    "\n",
    "def test_single_pd_matlab_data():\n",
    "    \n",
    "    "
   ]
  }
 ],
 "metadata": {
  "kernelspec": {
   "display_name": "Python 3",
   "language": "python",
   "name": "python3"
  },
  "language_info": {
   "codemirror_mode": {
    "name": "ipython",
    "version": 3
   },
   "file_extension": ".py",
   "mimetype": "text/x-python",
   "name": "python",
   "nbconvert_exporter": "python",
   "pygments_lexer": "ipython3",
   "version": "3.6.4"
  }
 },
 "nbformat": 4,
 "nbformat_minor": 2
}
